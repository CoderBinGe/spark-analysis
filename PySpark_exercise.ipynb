{
 "cells": [
  {
   "cell_type": "code",
   "execution_count": 1,
   "metadata": {},
   "outputs": [],
   "source": [
    "import findspark\n",
    "findspark.init()\n",
    "import os\n",
    "import pyspark\n",
    "from pyspark import SparkContext\n",
    "from pyspark import SparkConf\n",
    "\n",
    "conf = SparkConf().setAppName(\"miniProject\").setMaster(\"local[*]\")\n",
    "sc = SparkContext.getOrCreate(conf) "
   ]
  },
  {
   "cell_type": "markdown",
   "metadata": {},
   "source": [
    "# 数据载入"
   ]
  },
  {
   "cell_type": "code",
   "execution_count": 2,
   "metadata": {},
   "outputs": [
    {
     "data": {
      "text/plain": [
       "421970"
      ]
     },
     "execution_count": 2,
     "metadata": {},
     "output_type": "execute_result"
    }
   ],
   "source": [
    "# 通过命令统计raw_content中的记录条数\n",
    "# raw_content = sc.textFile(\"file:///E:/MyProject/spark-analysis/data/spark-data.csv\")\n",
    "raw_content = sc.textFile('./data/spark-data.csv')\n",
    "raw_content.count()"
   ]
  },
  {
   "cell_type": "code",
   "execution_count": 3,
   "metadata": {},
   "outputs": [
    {
     "data": {
      "text/plain": [
       "['\"date\",\"time\",\"size\",\"r_version\",\"r_arch\",\"r_os\",\"package\",\"version\",\"country\",\"ip_id\"',\n",
       " '\"2015-12-12\",\"13:42:10\",257886,\"3.2.2\",\"i386\",\"mingw32\",\"HistData\",\"0.7-6\",\"CZ\",1',\n",
       " '\"2015-12-12\",\"13:24:37\",1236751,\"3.2.2\",\"x86_64\",\"mingw32\",\"RJSONIO\",\"1.3-0\",\"DE\",2',\n",
       " '\"2015-12-12\",\"13:42:35\",2077876,\"3.2.2\",\"i386\",\"mingw32\",\"UsingR\",\"2.0-5\",\"CZ\",1',\n",
       " '\"2015-12-12\",\"13:42:01\",266724,\"3.2.2\",\"i386\",\"mingw32\",\"gridExtra\",\"2.0.0\",\"CZ\",1']"
      ]
     },
     "execution_count": 3,
     "metadata": {},
     "output_type": "execute_result"
    }
   ],
   "source": [
    "# 从raw_content这个RDD中取出前5条记录输出\n",
    "raw_content.take(5)"
   ]
  },
  {
   "cell_type": "code",
   "execution_count": 4,
   "metadata": {},
   "outputs": [
    {
     "data": {
      "text/plain": [
       "['\"2015-12-12\",\"14:10:31\",39913,NA,NA,NA,\"labeling\",\"0.3\",\"US\",16501',\n",
       " '\"2015-12-12\",\"10:32:55\",66867,\"3.1.2\",\"x86_64\",\"mingw32\",\"muhaz\",\"1.2.6\",\"ES\",3232',\n",
       " '\"2015-12-12\",\"07:52:27\",148193,\"3.2.3\",\"x86_64\",\"linux-gnu\",\"dichromat\",\"2.0-0\",\"HK\",6894']"
      ]
     },
     "execution_count": 4,
     "metadata": {},
     "output_type": "execute_result"
    }
   ],
   "source": [
    "# 从raw_content中采样出3条记录输出\n",
    "raw_content.takeSample(False,3)"
   ]
  },
  {
   "cell_type": "markdown",
   "metadata": {},
   "source": [
    "# 数据处理"
   ]
  },
  {
   "cell_type": "markdown",
   "metadata": {},
   "source": [
    "## 清洗"
   ]
  },
  {
   "cell_type": "code",
   "execution_count": 5,
   "metadata": {},
   "outputs": [
    {
     "data": {
      "text/plain": [
       "[['date',\n",
       "  'time',\n",
       "  'size',\n",
       "  'r_version',\n",
       "  'r_arch',\n",
       "  'r_os',\n",
       "  'package',\n",
       "  'version',\n",
       "  'country',\n",
       "  'ip_id'],\n",
       " ['2015-12-12',\n",
       "  '13:42:10',\n",
       "  '257886',\n",
       "  '3.2.2',\n",
       "  'i386',\n",
       "  'mingw32',\n",
       "  'HistData',\n",
       "  '0.7-6',\n",
       "  'CZ',\n",
       "  '1'],\n",
       " ['2015-12-12',\n",
       "  '13:24:37',\n",
       "  '1236751',\n",
       "  '3.2.2',\n",
       "  'x86_64',\n",
       "  'mingw32',\n",
       "  'RJSONIO',\n",
       "  '1.3-0',\n",
       "  'DE',\n",
       "  '2']]"
      ]
     },
     "execution_count": 5,
     "metadata": {},
     "output_type": "execute_result"
    }
   ],
   "source": [
    "# 对以上数据进行清洗，把记录中带的引号去除掉，得到content_rdd\n",
    "content_rdd = raw_content.map(lambda x:x.replace('\"','')).map(lambda x:x.split(','))\n",
    "content_rdd.take(3)"
   ]
  },
  {
   "cell_type": "code",
   "execution_count": 6,
   "metadata": {},
   "outputs": [
    {
     "name": "stdout",
     "output_type": "stream",
     "text": [
      "['a', 'b', 'c', 'd', 'e', 'f', 'g', 'h', 'm', 'n', 'q', 'r', 'q', 'w', 'j', 'r', 'q']\n"
     ]
    }
   ],
   "source": [
    "# 有如下的text，请使用flatmap得到包含所有字母的list\n",
    "# import re\n",
    "# def remove_symbol(s):\n",
    "#     reg = re.compile(r'[\\s#,%]')\n",
    "#     s = reg.sub('-',s)\n",
    "#     return s.split('-')\n",
    "\n",
    "def remove_symbol(x):\n",
    "    if ',' in x:\n",
    "        return x.split(',')\n",
    "    elif '#' in x:\n",
    "        return x.split('#')\n",
    "    elif '%' in x:\n",
    "        return x.split('%')\n",
    "    else:\n",
    "        return x.split()\n",
    "\n",
    "\n",
    "text=[\"a b c\", \"d e\", \"f#g#h\", \"m n q\", \"r,q,w\", \"j%r%q\"]\n",
    "\n",
    "text_rdd = sc.parallelize(text)\n",
    "text_rdd = text_rdd.flatMap(lambda s:remove_symbol(s))\n",
    "print(text_rdd.collect()) # print横着显示"
   ]
  },
  {
   "cell_type": "markdown",
   "metadata": {},
   "source": [
    "## 统计"
   ]
  },
  {
   "cell_type": "code",
   "execution_count": 7,
   "metadata": {},
   "outputs": [
    {
     "data": {
      "text/plain": [
       "[(\" 'gridExtra'\", 1758),\n",
       " (\" 'testthat'\", 1178),\n",
       " (\" 'maps'\", 1586),\n",
       " (\" 'geosphere'\", 284),\n",
       " (\" 'mgcv'\", 1402),\n",
       " (\" 'gtools'\", 1544),\n",
       " (\" 'matrixcalc'\", 204),\n",
       " (\" 'lubridate'\", 626),\n",
       " (\" 'doParallel'\", 1328),\n",
       " (\" 'abind'\", 538)]"
      ]
     },
     "execution_count": 7,
     "metadata": {},
     "output_type": "execute_result"
    }
   ],
   "source": [
    "# 从刚才的content_rdd中取出第7列，对不同的package类别进行统计计数\n",
    "package_rdd = content_rdd.map(lambda s:str(s).split(',')[6]).filter(lambda s:s!='package').cache()\n",
    "package_count_rdd = package_rdd.map(lambda s:(s,1)).reduceByKey(lambda x,y:x+y)\n",
    "package_count_rdd.take(10)"
   ]
  },
  {
   "cell_type": "markdown",
   "metadata": {},
   "source": [
    "## 排序"
   ]
  },
  {
   "cell_type": "code",
   "execution_count": 8,
   "metadata": {},
   "outputs": [
    {
     "data": {
      "text/plain": [
       "[(4783, \" 'Rcpp'\"),\n",
       " (3913, \" 'ggplot2'\"),\n",
       " (3748, \" 'stringi'\"),\n",
       " (3449, \" 'stringr'\"),\n",
       " (3436, \" 'plyr'\"),\n",
       " (3265, \" 'magrittr'\"),\n",
       " (3223, \" 'digest'\"),\n",
       " (3205, \" 'reshape2'\"),\n",
       " (3046, \" 'RColorBrewer'\"),\n",
       " (3007, \" 'scales'\")]"
      ]
     },
     "execution_count": 8,
     "metadata": {},
     "output_type": "execute_result"
    }
   ],
   "source": [
    "# 取出数量最多的10个package和出现的频次\n",
    "package_count_sort_rdd = package_count_rdd.map(lambda t:(t[1],t[0])).sortByKey(ascending=False).cache()\n",
    "package_count_sort_rdd.take(10)"
   ]
  },
  {
   "cell_type": "markdown",
   "metadata": {},
   "source": [
    "## 过滤"
   ]
  },
  {
   "cell_type": "code",
   "execution_count": 9,
   "metadata": {},
   "outputs": [
    {
     "data": {
      "text/plain": [
       "[['2015-12-12',\n",
       "  '20:56:29',\n",
       "  '392860',\n",
       "  '3.1.3',\n",
       "  'x86_64',\n",
       "  'mingw32',\n",
       "  'plyr',\n",
       "  '1.8.3',\n",
       "  'US',\n",
       "  '10'],\n",
       " ['2015-12-12',\n",
       "  '20:55:19',\n",
       "  '512',\n",
       "  'NA',\n",
       "  'NA',\n",
       "  'NA',\n",
       "  'plyr',\n",
       "  '1.6',\n",
       "  'CN',\n",
       "  '23'],\n",
       " ['2015-12-12',\n",
       "  '20:56:29',\n",
       "  '35401',\n",
       "  '3.2.2',\n",
       "  'x86_64',\n",
       "  'mingw32',\n",
       "  'stringr',\n",
       "  '1.0.0',\n",
       "  'US',\n",
       "  '10'],\n",
       " ['2015-12-12',\n",
       "  '20:56:28',\n",
       "  '2370487',\n",
       "  '3.2.2',\n",
       "  'i386',\n",
       "  'mingw32',\n",
       "  'Rcpp',\n",
       "  '0.12.2',\n",
       "  'US',\n",
       "  '10'],\n",
       " ['2015-12-12',\n",
       "  '20:56:27',\n",
       "  '3643527',\n",
       "  '3.2.1',\n",
       "  'x86_64',\n",
       "  'linux-gnu',\n",
       "  'stringi',\n",
       "  '1.0-1',\n",
       "  'US',\n",
       "  '10']]"
      ]
     },
     "execution_count": 9,
     "metadata": {},
     "output_type": "execute_result"
    }
   ],
   "source": [
    "# 取出top5的package对应的数据记录\n",
    "top5_package = [tup[1] for tup in package_count_sort_rdd.take(5)] # 先取出top5 package对应的名字\n",
    "top5_package_rdd = content_rdd.filter(lambda s:str(s).split(',')[6] in top5_package).cache()\n",
    "top5_package_rdd.take(5)"
   ]
  }
 ],
 "metadata": {
  "kernelspec": {
   "display_name": "Python 3",
   "language": "python",
   "name": "python3"
  },
  "language_info": {
   "codemirror_mode": {
    "name": "ipython",
    "version": 3
   },
   "file_extension": ".py",
   "mimetype": "text/x-python",
   "name": "python",
   "nbconvert_exporter": "python",
   "pygments_lexer": "ipython3",
   "version": "3.6.6"
  },
  "toc": {
   "base_numbering": 1,
   "nav_menu": {},
   "number_sections": true,
   "sideBar": true,
   "skip_h1_title": false,
   "title_cell": "Table of Contents",
   "title_sidebar": "Contents",
   "toc_cell": false,
   "toc_position": {},
   "toc_section_display": true,
   "toc_window_display": true
  }
 },
 "nbformat": 4,
 "nbformat_minor": 2
}
